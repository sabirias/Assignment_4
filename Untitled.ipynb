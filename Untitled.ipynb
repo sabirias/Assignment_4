{
 "cells": [
  {
   "cell_type": "code",
   "execution_count": null,
   "id": "cf6e1ef3-c4c1-4d94-810e-63aa0ea69ec2",
   "metadata": {},
   "outputs": [],
   "source": [
    "                                                    Assignment:-4"
   ]
  },
  {
   "cell_type": "code",
   "execution_count": null,
   "id": "499de43f-12e2-48f0-850c-ec1fd17030f5",
   "metadata": {},
   "outputs": [],
   "source": [
    "1)  Which keyword is used to create a function? Create a function to return a list of odd numbers in the \n",
    "    range of 1 to 25.\n",
    "    \n",
    "ANS:- The keyword used to create a function is typically \"def\" (short for define).    "
   ]
  },
  {
   "cell_type": "code",
   "execution_count": 1,
   "id": "c8313ca5-675b-4c2c-b3fb-b8e11f2e91e3",
   "metadata": {},
   "outputs": [
    {
     "name": "stdout",
     "output_type": "stream",
     "text": [
      "[1, 3, 5, 7, 9, 11, 13, 15, 17, 19, 21, 23, 25]\n"
     ]
    }
   ],
   "source": [
    "def odd_numbers():\n",
    "    odd_list = [i for i in range(1, 26) if i % 2 != 0]\n",
    "    return odd_list\n",
    "\n",
    "# Example usage:\n",
    "result = odd_numbers()\n",
    "print(result)"
   ]
  },
  {
   "cell_type": "code",
   "execution_count": 9,
   "id": "755398d8-9ad8-4f2e-8077-56dbd7ac8906",
   "metadata": {},
   "outputs": [
    {
     "name": "stdout",
     "output_type": "stream",
     "text": [
      "[1, 3]\n"
     ]
    }
   ],
   "source": [
    "def odd_numbers():\n",
    "    odd_list = [i for i in range(1, 25) if i % 2 != 0]\n",
    "    return odd_list\n",
    "\n",
    "# Example usage:\n",
    "result = odd_numbers()\n",
    "print(result)\n"
   ]
  },
  {
   "cell_type": "code",
   "execution_count": null,
   "id": "b3b37f63-fcb9-4ccb-908a-7c28c12ea101",
   "metadata": {},
   "outputs": [],
   "source": [
    "2) Why *args and **kwargs is used in some functions? Create a function each for *args and **kwargs \n",
    "   to demonstrate their use.\n",
    "    \n",
    "ANS:- *args and **kwargs are used in functions to allow them to accept a variable number of arguments.\n",
    "\n",
    "      *args: It allows a function to accept any number of positional arguments. The term \"args\" is just a convention;\n",
    "             you could use any other name preceded by the asterisk (*). The *args syntax collects additional positional arguments into a tuple.\n",
    "\n",
    "      **kwargs: It allows a function to accept any number of keyword arguments. The term \"kwargs\" is a convention, similar to *args.\n",
    "                The **kwargs syntax collects additional keyword arguments into a dictionary.    "
   ]
  },
  {
   "cell_type": "code",
   "execution_count": 10,
   "id": "9b35d389-af47-487f-a103-d237842623bd",
   "metadata": {},
   "outputs": [
    {
     "name": "stdout",
     "output_type": "stream",
     "text": [
      "First argument: 1\n",
      "Additional arguments: (2, 3, 4, 5)\n"
     ]
    }
   ],
   "source": [
    "def example_function_with_args(arg1, *args):\n",
    "    print(\"First argument:\", arg1)\n",
    "    print(\"Additional arguments:\", args)\n",
    "\n",
    "# Example usage:\n",
    "example_function_with_args(1, 2, 3, 4, 5)"
   ]
  },
  {
   "cell_type": "code",
   "execution_count": 11,
   "id": "b2d2baac-0121-4bf7-8217-c5bb913fd73a",
   "metadata": {},
   "outputs": [
    {
     "name": "stdout",
     "output_type": "stream",
     "text": [
      "First argument: 1\n",
      "Additional keyword arguments: {'name': 'John', 'age': 30, 'city': 'Exampleville'}\n"
     ]
    }
   ],
   "source": [
    "def example_function_with_kwargs(arg1, **kwargs):\n",
    "    print(\"First argument:\", arg1)\n",
    "    print(\"Additional keyword arguments:\", kwargs)\n",
    "\n",
    "# Example usage:\n",
    "example_function_with_kwargs(1, name=\"John\", age=30, city=\"Exampleville\")\n"
   ]
  },
  {
   "cell_type": "code",
   "execution_count": null,
   "id": "8c3b7fca-4d97-4259-8a60-acf030a78be2",
   "metadata": {},
   "outputs": [],
   "source": [
    "3)  What is an iterator in python? Name the method used to initialise the iterator object and the method \n",
    "    used for iteration. Use these methods to print the first five elements of the given list [2, 4, 6, 8, 10, 12, 14, 16, 18, 20].\n",
    "    \n",
    "ANS:- In Python, an iterator is an object that represents a stream of data. It adheres to the iterator protocol,\n",
    "      which consists of two methods:\n",
    "\n",
    "    __iter__ method: This method initializes the iterator object and returns itself. It is called when you create an iterator.\n",
    "\n",
    "    __next__ method: This method is responsible for returning the next value in the sequence. When there are no more items to return,\n",
    "                     it should raise the StopIteration exception to signal the end of the iteration."
   ]
  },
  {
   "cell_type": "code",
   "execution_count": 12,
   "id": "454632f9-bbae-4fe7-9bdd-bcbecef0e5b3",
   "metadata": {},
   "outputs": [
    {
     "name": "stdout",
     "output_type": "stream",
     "text": [
      "2\n",
      "4\n",
      "6\n",
      "8\n",
      "10\n"
     ]
    }
   ],
   "source": [
    "# Define an iterator class for the given list\n",
    "class MyIterator:\n",
    "    def __init__(self, data):\n",
    "        self.data = data\n",
    "        self.index = 0\n",
    "\n",
    "    def __iter__(self):\n",
    "        return self\n",
    "\n",
    "    def __next__(self):\n",
    "        if self.index < len(self.data):\n",
    "            result = self.data[self.index]\n",
    "            self.index += 1\n",
    "            return result\n",
    "        else:\n",
    "            raise StopIteration\n",
    "\n",
    "# Given list\n",
    "my_list = [2, 4, 6, 8, 10, 12, 14, 16, 18, 20]\n",
    "\n",
    "# Create an iterator object\n",
    "my_iterator = MyIterator(my_list)\n",
    "\n",
    "# Iterate and print the first five elements\n",
    "for _ in range(5):\n",
    "    print(next(my_iterator))\n"
   ]
  },
  {
   "cell_type": "code",
   "execution_count": null,
   "id": "5489fcba-f935-4193-9718-e852ecc9b919",
   "metadata": {},
   "outputs": [],
   "source": [
    "4)  What is a generator function in python? Why yield keyword is used? Give an example of a generator \n",
    "    function.\n",
    "    \n",
    "ANS:- A generator function in Python is a special type of function that allows you to iterate over a potentially large\n",
    "      sequence of data without creating the entire sequence in memory at once. Instead of returning the result using return, \n",
    "      a generator function uses the yield keyword    "
   ]
  },
  {
   "cell_type": "code",
   "execution_count": 13,
   "id": "ec85de6b-deba-4ee5-9255-4ea0d7803328",
   "metadata": {},
   "outputs": [
    {
     "name": "stdout",
     "output_type": "stream",
     "text": [
      "0\n",
      "1\n",
      "4\n",
      "9\n",
      "16\n"
     ]
    }
   ],
   "source": [
    "def square_generator(n):\n",
    "    for i in range(n):\n",
    "        yield i ** 2\n",
    "\n",
    "# Using the generator\n",
    "for square in square_generator(5):\n",
    "    print(square)\n"
   ]
  },
  {
   "cell_type": "code",
   "execution_count": null,
   "id": "d4a7cfc3-c9e5-49c1-a4df-95e7d5437eee",
   "metadata": {},
   "outputs": [],
   "source": [
    "5)  Create a generator function for prime numbers less than 1000. Use the next() method to print the \n",
    "    first 20 prime numbers."
   ]
  },
  {
   "cell_type": "code",
   "execution_count": 16,
   "id": "0d4c73ff-5eec-49cc-bc54-4fa7f9da702c",
   "metadata": {},
   "outputs": [
    {
     "name": "stdout",
     "output_type": "stream",
     "text": [
      "2\n",
      "3\n",
      "5\n",
      "7\n",
      "11\n",
      "13\n",
      "17\n",
      "19\n",
      "23\n",
      "29\n",
      "31\n",
      "37\n",
      "41\n",
      "43\n",
      "47\n",
      "53\n",
      "59\n",
      "61\n",
      "67\n",
      "71\n"
     ]
    }
   ],
   "source": [
    "#a generator function for prime numbers less than 1000. Use the next() method to print the first 20 prime numbers.\n",
    "def primes():\n",
    "    \"\"\"Create a generator function for prime numbers less than 1000.\"\"\"\n",
    "    yield 2\n",
    "    primes_list = [2]\n",
    "    for i in range(3, 1000):\n",
    "        is_prime = True\n",
    "        for prime in primes_list:\n",
    "            if i % prime == 0:\n",
    "                is_prime = False\n",
    "                break\n",
    "        if is_prime:\n",
    "            primes_list.append(i)\n",
    "            yield i\n",
    "\n",
    "prime_gen = primes()\n",
    "# the next() method to print the first 20 prime numbers.\n",
    "for i in range(20):\n",
    "    print(next(prime_gen))"
   ]
  },
  {
   "cell_type": "code",
   "execution_count": null,
   "id": "a52c1575-ac2c-4f97-bb92-aa4ad8109661",
   "metadata": {},
   "outputs": [],
   "source": [
    "6) Write a python program to print the first 10 Fibonacci numbers using a while loop."
   ]
  },
  {
   "cell_type": "code",
   "execution_count": 17,
   "id": "d3d73f7e-b364-47dc-a165-6036c0a57464",
   "metadata": {},
   "outputs": [
    {
     "name": "stdout",
     "output_type": "stream",
     "text": [
      "0\n",
      "1\n",
      "1\n",
      "2\n",
      "3\n",
      "5\n",
      "8\n",
      "13\n",
      "21\n",
      "34\n"
     ]
    }
   ],
   "source": [
    "#a python program to print the first 10 Fibonacci numbers using a while loop.\n",
    "def fibonacci(n):\n",
    "    \"\"\"This function will print fibonacci sequence\"\"\"\n",
    "    a, b = 0, 1\n",
    "    count = 0\n",
    "    while count < n:\n",
    "        print(a)\n",
    "        a, b = b, a + b\n",
    "        count += 1\n",
    "\n",
    "fibonacci(10)"
   ]
  },
  {
   "cell_type": "code",
   "execution_count": null,
   "id": "74d0a4dc-d4bd-4fef-aa73-ba8ca9c1b497",
   "metadata": {},
   "outputs": [],
   "source": [
    "7)  Write a List Comprehension to iterate through the given string: ‘pwskills’. Expected output: ['p', 'w', 's', 'k', 'i', 'l', 'l', 's']"
   ]
  },
  {
   "cell_type": "code",
   "execution_count": 18,
   "id": "5df22b8e-2ab1-4b69-93cc-1a76adabada7",
   "metadata": {},
   "outputs": [
    {
     "name": "stdout",
     "output_type": "stream",
     "text": [
      "['p', 'w', 's', 'k', 'i', 'l', 'l', 's']\n"
     ]
    }
   ],
   "source": [
    "#a List Comprehension to iterate through the given string: ‘pwskills’.\n",
    "string = 'pwskills'\n",
    "output = [char for char in string]\n",
    "print(output)"
   ]
  },
  {
   "cell_type": "code",
   "execution_count": null,
   "id": "484a7f21-d2ae-4aa6-b4bf-c300371c06a9",
   "metadata": {},
   "outputs": [],
   "source": [
    "8) Write a python program to check whether a given number is Palindrome or not using a while loop."
   ]
  },
  {
   "cell_type": "code",
   "execution_count": 19,
   "id": "4eaf725f-008b-4a94-9764-7673b588b048",
   "metadata": {},
   "outputs": [
    {
     "name": "stdin",
     "output_type": "stream",
     "text": [
      "Please give a number :  323\n"
     ]
    },
    {
     "name": "stdout",
     "output_type": "stream",
     "text": [
      "Given number is a palindrome\n"
     ]
    }
   ],
   "source": [
    "#a python program to check whether a given number is Palindrome or not using a while loop.\n",
    "n = int(input(\"Please give a number : \"))\n",
    "def reverse(num):\n",
    "    if num<10:\n",
    "      return num \n",
    "    else:\n",
    "      return int(str(num%10) + str(reverse(num//10)))\n",
    "def isPalindrome(num):\n",
    "    if num == reverse(num):\n",
    "        return 1\n",
    "    return 0\n",
    "if isPalindrome(n) == 1:\n",
    "    print(\"Given number is a palindrome\")\n",
    "else:\n",
    "    print(\"Given number is a not palindrome\") "
   ]
  },
  {
   "cell_type": "code",
   "execution_count": null,
   "id": "420fe2d7-d87c-4842-ad04-60bc5fdf05f7",
   "metadata": {},
   "outputs": [],
   "source": [
    "9) Write a code to print odd numbers from 1 to 100 using list comprehension."
   ]
  },
  {
   "cell_type": "code",
   "execution_count": 20,
   "id": "64c41741-3f84-4ec0-917a-7bea450c2c5c",
   "metadata": {},
   "outputs": [
    {
     "data": {
      "text/plain": [
       "[1,\n",
       " 3,\n",
       " 5,\n",
       " 7,\n",
       " 9,\n",
       " 11,\n",
       " 13,\n",
       " 15,\n",
       " 17,\n",
       " 19,\n",
       " 21,\n",
       " 23,\n",
       " 25,\n",
       " 27,\n",
       " 29,\n",
       " 31,\n",
       " 33,\n",
       " 35,\n",
       " 37,\n",
       " 39,\n",
       " 41,\n",
       " 43,\n",
       " 45,\n",
       " 47,\n",
       " 49,\n",
       " 51,\n",
       " 53,\n",
       " 55,\n",
       " 57,\n",
       " 59,\n",
       " 61,\n",
       " 63,\n",
       " 65,\n",
       " 67,\n",
       " 69,\n",
       " 71,\n",
       " 73,\n",
       " 75,\n",
       " 77,\n",
       " 79,\n",
       " 81,\n",
       " 83,\n",
       " 85,\n",
       " 87,\n",
       " 89,\n",
       " 91,\n",
       " 93,\n",
       " 95,\n",
       " 97,\n",
       " 99]"
      ]
     },
     "execution_count": 20,
     "metadata": {},
     "output_type": "execute_result"
    }
   ],
   "source": [
    "#a code to print odd numbers from 1 to 100 using list comprehension.\n",
    "[odd for odd in range(1,100) if odd%2!=0]"
   ]
  },
  {
   "cell_type": "code",
   "execution_count": null,
   "id": "27b3f502-6884-4526-8430-53929c637b39",
   "metadata": {},
   "outputs": [],
   "source": []
  }
 ],
 "metadata": {
  "kernelspec": {
   "display_name": "Python 3 (ipykernel)",
   "language": "python",
   "name": "python3"
  },
  "language_info": {
   "codemirror_mode": {
    "name": "ipython",
    "version": 3
   },
   "file_extension": ".py",
   "mimetype": "text/x-python",
   "name": "python",
   "nbconvert_exporter": "python",
   "pygments_lexer": "ipython3",
   "version": "3.10.8"
  }
 },
 "nbformat": 4,
 "nbformat_minor": 5
}
